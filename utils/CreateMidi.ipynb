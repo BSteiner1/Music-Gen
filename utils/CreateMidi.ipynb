{
 "cells": [
  {
   "cell_type": "code",
   "execution_count": 5,
   "id": "363be6d1-47d4-430c-b38b-f24148779088",
   "metadata": {},
   "outputs": [],
   "source": [
    "import json\n",
    "import numpy as np\n",
    "import pretty_midi"
   ]
  },
  {
   "cell_type": "code",
   "execution_count": 6,
   "id": "65d87354-2c14-4048-af0d-23e515d013d6",
   "metadata": {},
   "outputs": [],
   "source": [
    "from ExtractData import *"
   ]
  },
  {
   "cell_type": "code",
   "execution_count": 7,
   "id": "f02a0bbb-dc8b-4d30-aff3-f4188bd798b1",
   "metadata": {},
   "outputs": [],
   "source": [
    "path = '../Data/DoodleSample'"
   ]
  },
  {
   "cell_type": "code",
   "execution_count": 8,
   "id": "3131a61a-8bb1-4ff3-abc6-af0583565c86",
   "metadata": {},
   "outputs": [],
   "source": [
    "all_phrases = get_cleaned_phrases(path, 3)"
   ]
  },
  {
   "cell_type": "code",
   "execution_count": 30,
   "id": "7b24f8a9-172a-49f7-8638-dae0b8c9a3ce",
   "metadata": {},
   "outputs": [],
   "source": [
    "def pitch_and_length(phrase, part):\n",
    "    \"\"\"\n",
    "    A function that takes the array and splits a part into lists of note pitch and length.\n",
    "    \n",
    "    Args:\n",
    "        - phrase (tuple): a tuple of lists of the form (pitches, note_start_step, note_end_step, instruments).\n",
    "        - part (int): an integer between 0 and 3 (inclusive) to denote which of the four parts.\n",
    "        \n",
    "    Returns:\n",
    "        - Two lists for the note pitch and length.\n",
    "    \"\"\"\n",
    "    # Extract a single part of the phrase\n",
    "    phrase_part = phrase[part].tolist()\n",
    "    \n",
    "    # Initialize empty lists for note lengths and unique pitches\n",
    "    note_lengths = []\n",
    "    pitches = []\n",
    "\n",
    "    # Initialize variables to track the current note and its length\n",
    "    current_note = None\n",
    "    current_length = 0\n",
    "\n",
    "    # Iterate through the original list\n",
    "    for pitch in phrase_part:\n",
    "        if pitch == current_note:\n",
    "            # Increment the length of the current note\n",
    "            current_length += 1\n",
    "        else:\n",
    "            if current_note is not None:\n",
    "                # Append the length of the previous note\n",
    "                note_lengths.append(current_length)\n",
    "                # Append the unique pitch\n",
    "                pitches.append(current_note)\n",
    "\n",
    "            # Start counting a new note\n",
    "            current_note = pitch\n",
    "            current_length = 1\n",
    "\n",
    "    # Append the last note's length and unique pitch\n",
    "    note_lengths.append(current_length)\n",
    "    pitches.append(current_note)\n",
    "    \n",
    "    # Divide the length by two to represent the number of beats\n",
    "    note_lengths = [note_length/2 for note_length in note_lengths]\n",
    "    \n",
    "    return pitches, note_lengths"
   ]
  },
  {
   "cell_type": "code",
   "execution_count": 33,
   "id": "e37d881b-d11e-4d1e-b95d-c7ef2fea6ecf",
   "metadata": {},
   "outputs": [
    {
     "data": {
      "text/plain": [
       "([71, 69, 74, 72, 71, 67, 71, 69, 71, 69],\n",
       " [1.0, 1.0, 2.0, 1.0, 1.0, 1.0, 1.0, 2.0, 2.0, 4.0])"
      ]
     },
     "execution_count": 33,
     "metadata": {},
     "output_type": "execute_result"
    }
   ],
   "source": [
    "sample_phrase = all_phrases[0]\n",
    "pitch_and_length(sample_phrase, 0)"
   ]
  },
  {
   "cell_type": "code",
   "execution_count": 71,
   "id": "d2633d0a-e4e1-46da-9e6e-276f21373c8b",
   "metadata": {},
   "outputs": [
    {
     "data": {
      "text/plain": [
       "array([[71, 71, 69, 69, 74, 74, 74, 74, 72, 72, 71, 71, 67, 67, 71, 71,\n",
       "        69, 69, 69, 69, 71, 71, 71, 71, 69, 69, 69, 69, 69, 69, 69, 69],\n",
       "       [67, 67, 67, 67, 69, 69, 69, 69, 67, 67, 66, 66, 67, 67, 67, 64,\n",
       "        64, 64, 66, 66, 67, 67, 67, 67, 67, 67, 67, 67, 67, 67, 67, 67],\n",
       "       [62, 62, 62, 62, 62, 62, 62, 62, 64, 64, 62, 62, 67, 67, 55, 67,\n",
       "        57, 57, 57, 57, 62, 62, 62, 62, 64, 64, 64, 64, 57, 57, 62, 62],\n",
       "       [43, 43, 43, 43, 55, 55, 54, 54, 52, 52, 50, 50, 50, 52, 50, 50,\n",
       "        48, 48, 48, 48, 47, 47, 47, 47, 49, 49, 45, 45, 50, 50, 50, 50]])"
      ]
     },
     "execution_count": 71,
     "metadata": {},
     "output_type": "execute_result"
    }
   ],
   "source": [
    "all_phrases[0]"
   ]
  },
  {
   "cell_type": "code",
   "execution_count": 89,
   "id": "09f29cb8-9228-4d4c-8d46-6ba335663c3e",
   "metadata": {},
   "outputs": [],
   "source": [
    "class PhraseToMIDI:\n",
    "    def __init__(self, phrase, tempo=120):\n",
    "        \"\"\"\n",
    "        Initialize the PhraseToMIDI object.\n",
    "\n",
    "        Args:\n",
    "        phrase (list): A list of dictionaries, each containing 'pitch_list' and 'length_list' for a part.\n",
    "        tempo (int): Optional. The tempo (BPM) for the MIDI file. Default is 120.\n",
    "        \"\"\"\n",
    "        self.phrase = phrase\n",
    "        self.tempo = tempo\n",
    "        \n",
    "    def write_phrase_to_MIDI(self, phrase_array):\n",
    "        \"\"\"\n",
    "        A function that takes the phrase and writes it to a MIDI file.\n",
    "        \n",
    "        Args:\n",
    "            - phrase (list): An array containing the pitches of the four parts.\n",
    "            \n",
    "        Returns:\n",
    "            - A MIDI file storing the note data.\n",
    "        \"\"\"\n",
    "        # Create a new MIDI data object\n",
    "        midi_data = pretty_midi.PrettyMIDI(initial_tempo=self.tempo)\n",
    "        \n",
    "        # Name the parts\n",
    "        instrument_names = [\"Part 1\", \"Part 2\", \"Part 3\", \"Part 4\"]\n",
    "        \n",
    "        for part in range(4):\n",
    "            # Define the instrument to acoustic grand piano\n",
    "            instrument = pretty_midi.Instrument(program=0, name=instrument_names[part])\n",
    "            # Get the pitch and length lists\n",
    "            part_pitch_list, part_pitch_length = pitch_and_length(phrase_array, part)\n",
    "            for i in range(len(part_pitch_list)):\n",
    "                note_start = sum(part_pitch_length[:i])\n",
    "                note_end = sum(part_pitch_length[:i+1])\n",
    "                # Create a Note object \n",
    "                note = pretty_midi.Note(\n",
    "                    velocity=100,  \n",
    "                    pitch=part_pitch_list[i],  \n",
    "                    start=note_start,      \n",
    "                    end=note_end         \n",
    "                )\n",
    "                # Add the Note object to the Instrument\n",
    "                instrument.notes.append(note)\n",
    "            # Add the Instrument to the MIDI data\n",
    "            midi_data.instruments.append(instrument)\n",
    "                \n",
    "        return midi_data"
   ]
  },
  {
   "cell_type": "code",
   "execution_count": 90,
   "id": "ad53c7db-5f8c-47ba-bff4-22f52b0e3993",
   "metadata": {},
   "outputs": [],
   "source": [
    "# Create an instance of the PhraseToMIDI class\n",
    "pm = PhraseToMIDI(sample_phrase, tempo=120)\n",
    "\n",
    "# Call the write_phrase_to_MIDI method to generate MIDI data\n",
    "midi_data = pm.write_phrase_to_MIDI(sample_phrase)"
   ]
  },
  {
   "cell_type": "code",
   "execution_count": 91,
   "id": "89df70cf-5da4-412d-bd52-0d8e95129a8f",
   "metadata": {},
   "outputs": [],
   "source": [
    "# Save the generated MIDI data to a file\n",
    "midi_data.write('output.mid')"
   ]
  },
  {
   "cell_type": "code",
   "execution_count": 92,
   "id": "3d562ab9-57c7-404e-b758-dc8a103048c4",
   "metadata": {},
   "outputs": [
    {
     "name": "stdout",
     "output_type": "stream",
     "text": [
      "Instrument: Part 1\n",
      "Note Pitch: 71\n",
      "Start Time: 0.0\n",
      "End Time: 1.0\n",
      "Velocity: 100\n",
      "---\n",
      "Note Pitch: 69\n",
      "Start Time: 1.0\n",
      "End Time: 2.0\n",
      "Velocity: 100\n",
      "---\n",
      "Instrument: Part 2\n",
      "Note Pitch: 67\n",
      "Start Time: 0.0\n",
      "End Time: 2.0\n",
      "Velocity: 100\n",
      "---\n",
      "Note Pitch: 69\n",
      "Start Time: 2.0\n",
      "End Time: 4.0\n",
      "Velocity: 100\n",
      "---\n",
      "Instrument: Part 3\n",
      "Note Pitch: 62\n",
      "Start Time: 0.0\n",
      "End Time: 4.0\n",
      "Velocity: 100\n",
      "---\n",
      "Note Pitch: 64\n",
      "Start Time: 4.0\n",
      "End Time: 5.0\n",
      "Velocity: 100\n",
      "---\n",
      "Instrument: Part 4\n",
      "Note Pitch: 43\n",
      "Start Time: 0.0\n",
      "End Time: 2.0\n",
      "Velocity: 100\n",
      "---\n",
      "Note Pitch: 55\n",
      "Start Time: 2.0\n",
      "End Time: 3.0\n",
      "Velocity: 100\n",
      "---\n"
     ]
    }
   ],
   "source": [
    "# Load a MIDI file\n",
    "midi_data = pretty_midi.PrettyMIDI('output.mid')  # Replace with your MIDI file's path\n",
    "\n",
    "# Iterate through the instruments in the MIDI file\n",
    "for instrument in midi_data.instruments:\n",
    "    print(f\"Instrument: {instrument.name}\")\n",
    "\n",
    "    # Iterate through the notes in the instrument\n",
    "    for note in instrument.notes[:2]:\n",
    "        print(f\"Note Pitch: {note.pitch}\")\n",
    "        print(f\"Start Time: {note.start}\")\n",
    "        print(f\"End Time: {note.end}\")\n",
    "        print(f\"Velocity: {note.velocity}\")\n",
    "        print(\"---\")\n"
   ]
  }
 ],
 "metadata": {
  "kernelspec": {
   "display_name": "Python 3 (ipykernel)",
   "language": "python",
   "name": "python3"
  },
  "language_info": {
   "codemirror_mode": {
    "name": "ipython",
    "version": 3
   },
   "file_extension": ".py",
   "mimetype": "text/x-python",
   "name": "python",
   "nbconvert_exporter": "python",
   "pygments_lexer": "ipython3",
   "version": "3.9.13"
  }
 },
 "nbformat": 4,
 "nbformat_minor": 5
}
