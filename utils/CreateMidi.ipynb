{
 "cells": [
  {
   "cell_type": "code",
   "execution_count": 1,
   "id": "363be6d1-47d4-430c-b38b-f24148779088",
   "metadata": {},
   "outputs": [],
   "source": [
    "#import json\n",
    "#import numpy as np\n",
    "import pretty_midi"
   ]
  },
  {
   "cell_type": "code",
   "execution_count": 2,
   "id": "65d87354-2c14-4048-af0d-23e515d013d6",
   "metadata": {},
   "outputs": [],
   "source": [
    "from ExtractData import *"
   ]
  },
  {
   "cell_type": "code",
   "execution_count": 3,
   "id": "f02a0bbb-dc8b-4d30-aff3-f4188bd798b1",
   "metadata": {},
   "outputs": [],
   "source": [
    "path = '../Data/DoodleSample'"
   ]
  },
  {
   "cell_type": "code",
   "execution_count": 4,
   "id": "3131a61a-8bb1-4ff3-abc6-af0583565c86",
   "metadata": {},
   "outputs": [],
   "source": [
    "all_phrases = get_cleaned_phrases(path, 3)"
   ]
  },
  {
   "cell_type": "code",
   "execution_count": 6,
   "id": "d2633d0a-e4e1-46da-9e6e-276f21373c8b",
   "metadata": {},
   "outputs": [
    {
     "data": {
      "text/plain": [
       "array([[71, 71, 69, 69, 74, 74, 74, 74, 72, 72, 71, 71, 67, 67, 71, 71,\n",
       "        69, 69, 69, 69, 71, 71, 71, 71, 69, 69, 69, 69, 69, 69, 69, 69],\n",
       "       [67, 67, 67, 67, 69, 69, 69, 69, 67, 67, 66, 66, 67, 67, 67, 64,\n",
       "        64, 64, 66, 66, 67, 67, 67, 67, 67, 67, 67, 67, 67, 67, 67, 67],\n",
       "       [62, 62, 62, 62, 62, 62, 62, 62, 64, 64, 62, 62, 67, 67, 55, 67,\n",
       "        57, 57, 57, 57, 62, 62, 62, 62, 64, 64, 64, 64, 57, 57, 62, 62],\n",
       "       [43, 43, 43, 43, 55, 55, 54, 54, 52, 52, 50, 50, 50, 52, 50, 50,\n",
       "        48, 48, 48, 48, 47, 47, 47, 47, 49, 49, 45, 45, 50, 50, 50, 50]])"
      ]
     },
     "execution_count": 6,
     "metadata": {},
     "output_type": "execute_result"
    }
   ],
   "source": [
    "all_phrases[0]"
   ]
  },
  {
   "cell_type": "code",
   "execution_count": 5,
   "id": "e37d881b-d11e-4d1e-b95d-c7ef2fea6ecf",
   "metadata": {},
   "outputs": [
    {
     "data": {
      "text/plain": [
       "([71, 69, 74, 72, 71, 67, 71, 69, 71, 69],\n",
       " [1.0, 1.0, 2.0, 1.0, 1.0, 1.0, 1.0, 2.0, 2.0, 4.0])"
      ]
     },
     "execution_count": 5,
     "metadata": {},
     "output_type": "execute_result"
    }
   ],
   "source": [
    "sample_phrase = all_phrases[0]\n",
    "pitch_and_length(sample_phrase, 0)"
   ]
  },
  {
   "cell_type": "code",
   "execution_count": 7,
   "id": "09f29cb8-9228-4d4c-8d46-6ba335663c3e",
   "metadata": {},
   "outputs": [],
   "source": [
    "class PhraseToMIDI:\n",
    "    def __init__(self, phrase, tempo=120):\n",
    "        \"\"\"\n",
    "        Initialize the PhraseToMIDI object.\n",
    "\n",
    "        Args:\n",
    "        phrase (list): A list of dictionaries, each containing 'pitch_list' and 'length_list' for a part.\n",
    "        tempo (int): Optional. The tempo (BPM) for the MIDI file. Default is 120.\n",
    "        \"\"\"\n",
    "        self.phrase = phrase\n",
    "        self.tempo = tempo\n",
    "        \n",
    "    def write_phrase_to_MIDI(self, phrase_array):\n",
    "        \"\"\"\n",
    "        A function that takes the phrase and writes it to a MIDI file.\n",
    "        \n",
    "        Args:\n",
    "            - phrase (list): An array containing the pitches of the four parts.\n",
    "            \n",
    "        Returns:\n",
    "            - A MIDI file storing the note data.\n",
    "        \"\"\"\n",
    "        # Create a new MIDI data object\n",
    "        midi_data = pretty_midi.PrettyMIDI(initial_tempo=self.tempo)\n",
    "        \n",
    "        # Name the parts\n",
    "        instrument_names = [\"Part 1\", \"Part 2\", \"Part 3\", \"Part 4\"]\n",
    "        \n",
    "        for part in range(4):\n",
    "            # Define the instrument to acoustic grand piano\n",
    "            instrument = pretty_midi.Instrument(program=0, name=instrument_names[part])\n",
    "            # Get the pitch and length lists\n",
    "            part_pitch_list, part_pitch_length = pitch_and_length(phrase_array, part)\n",
    "            for i in range(len(part_pitch_list)):\n",
    "                note_start = sum(part_pitch_length[:i])\n",
    "                note_end = sum(part_pitch_length[:i+1])\n",
    "                # Create a Note object \n",
    "                note = pretty_midi.Note(\n",
    "                    velocity=100,  \n",
    "                    pitch=part_pitch_list[i],  \n",
    "                    start=note_start,      \n",
    "                    end=note_end         \n",
    "                )\n",
    "                # Add the Note object to the Instrument\n",
    "                instrument.notes.append(note)\n",
    "            # Add the Instrument to the MIDI data\n",
    "            midi_data.instruments.append(instrument)\n",
    "                \n",
    "        return midi_data"
   ]
  },
  {
   "cell_type": "code",
   "execution_count": 8,
   "id": "ad53c7db-5f8c-47ba-bff4-22f52b0e3993",
   "metadata": {},
   "outputs": [],
   "source": [
    "# Create an instance of the PhraseToMIDI class\n",
    "pm = PhraseToMIDI(sample_phrase, tempo=120)\n",
    "\n",
    "# Call the write_phrase_to_MIDI method to generate MIDI data\n",
    "midi_data = pm.write_phrase_to_MIDI(sample_phrase)"
   ]
  },
  {
   "cell_type": "code",
   "execution_count": 9,
   "id": "89df70cf-5da4-412d-bd52-0d8e95129a8f",
   "metadata": {},
   "outputs": [],
   "source": [
    "# Save the generated MIDI data to a file\n",
    "midi_data.write('output.mid')"
   ]
  },
  {
   "cell_type": "code",
   "execution_count": 10,
   "id": "3d562ab9-57c7-404e-b758-dc8a103048c4",
   "metadata": {},
   "outputs": [
    {
     "name": "stdout",
     "output_type": "stream",
     "text": [
      "Instrument: Part 1\n",
      "Note Pitch: 71\n",
      "Start Time: 0.0\n",
      "End Time: 1.0\n",
      "Velocity: 100\n",
      "---\n",
      "Note Pitch: 69\n",
      "Start Time: 1.0\n",
      "End Time: 2.0\n",
      "Velocity: 100\n",
      "---\n",
      "Instrument: Part 2\n",
      "Note Pitch: 67\n",
      "Start Time: 0.0\n",
      "End Time: 2.0\n",
      "Velocity: 100\n",
      "---\n",
      "Note Pitch: 69\n",
      "Start Time: 2.0\n",
      "End Time: 4.0\n",
      "Velocity: 100\n",
      "---\n",
      "Instrument: Part 3\n",
      "Note Pitch: 62\n",
      "Start Time: 0.0\n",
      "End Time: 4.0\n",
      "Velocity: 100\n",
      "---\n",
      "Note Pitch: 64\n",
      "Start Time: 4.0\n",
      "End Time: 5.0\n",
      "Velocity: 100\n",
      "---\n",
      "Instrument: Part 4\n",
      "Note Pitch: 43\n",
      "Start Time: 0.0\n",
      "End Time: 2.0\n",
      "Velocity: 100\n",
      "---\n",
      "Note Pitch: 55\n",
      "Start Time: 2.0\n",
      "End Time: 3.0\n",
      "Velocity: 100\n",
      "---\n"
     ]
    }
   ],
   "source": [
    "# Load a MIDI file\n",
    "midi_data = pretty_midi.PrettyMIDI('output.mid')  # Replace with your MIDI file's path\n",
    "\n",
    "# Iterate through the instruments in the MIDI file\n",
    "for instrument in midi_data.instruments:\n",
    "    print(f\"Instrument: {instrument.name}\")\n",
    "\n",
    "    # Iterate through the notes in the instrument\n",
    "    for note in instrument.notes[:2]:\n",
    "        print(f\"Note Pitch: {note.pitch}\")\n",
    "        print(f\"Start Time: {note.start}\")\n",
    "        print(f\"End Time: {note.end}\")\n",
    "        print(f\"Velocity: {note.velocity}\")\n",
    "        print(\"---\")\n"
   ]
  },
  {
   "cell_type": "code",
   "execution_count": null,
   "id": "4efeebb5-8b23-4b77-a836-9a35ac3e4140",
   "metadata": {},
   "outputs": [],
   "source": []
  }
 ],
 "metadata": {
  "kernelspec": {
   "display_name": "Python 3 (ipykernel)",
   "language": "python",
   "name": "python3"
  },
  "language_info": {
   "codemirror_mode": {
    "name": "ipython",
    "version": 3
   },
   "file_extension": ".py",
   "mimetype": "text/x-python",
   "name": "python",
   "nbconvert_exporter": "python",
   "pygments_lexer": "ipython3",
   "version": "3.9.13"
  }
 },
 "nbformat": 4,
 "nbformat_minor": 5
}
