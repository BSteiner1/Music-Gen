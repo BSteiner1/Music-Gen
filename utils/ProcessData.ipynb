{
 "cells": [
  {
   "cell_type": "code",
   "execution_count": 2,
   "id": "6e7e5290-49a4-4c22-a55b-b4e7b39e569b",
   "metadata": {},
   "outputs": [],
   "source": [
    "import numpy as np"
   ]
  },
  {
   "cell_type": "code",
   "execution_count": 3,
   "id": "a6579237-b440-4bdc-b85e-dbf6ffa5c908",
   "metadata": {},
   "outputs": [],
   "source": [
    "from ExtractData import *"
   ]
  },
  {
   "cell_type": "code",
   "execution_count": 4,
   "id": "4512117c-dfda-47fd-a0ab-251d1a75167f",
   "metadata": {},
   "outputs": [],
   "source": [
    "path = '../Data/DoodleSample'"
   ]
  },
  {
   "cell_type": "code",
   "execution_count": 5,
   "id": "99ab33ad-06cb-4aea-83f8-ea6b0cf7b7e8",
   "metadata": {},
   "outputs": [],
   "source": [
    "all_four_part_harmonies = coconet_harmony(path, 1)"
   ]
  },
  {
   "cell_type": "code",
   "execution_count": 6,
   "id": "663cb026-f08e-41f2-97f3-bd5f34d1281f",
   "metadata": {},
   "outputs": [],
   "source": [
    "def sort_phrase(phrase):\n",
    "    \"\"\"\n",
    "    A function that sorts an unordered phrase into a four-bar phrase.\n",
    "    \n",
    "    Args:\n",
    "        - phrase (tuple): a tuple of lists of the form (pitches, note_start_step, note_end_step, instruments).\n",
    "        \n",
    "    Returns:\n",
    "        - A NumPy array of the four-part harmony sorted by time. \n",
    "        \n",
    "    \"\"\"\n",
    "    # Assign the lists in the tuple\n",
    "    pitch_list, note_start_list, note_end_list, instrument_list = phrase\n",
    "\n",
    "    # Initialise a 4x32 NumPy array filled with zeros\n",
    "    phrase_array = np.zeros((4, 32), dtype=int)\n",
    "\n",
    "    # Iterate through the data and fill the array\n",
    "    for i in range(len(instrument_list)):\n",
    "        instrument = instrument_list[i]   # Adjust to zero-based index\n",
    "        pitch = pitch_list[i]\n",
    "        start_step = note_start_list[i]\n",
    "        end_step = note_end_list[i]\n",
    "\n",
    "        # Fill the array with pitch values for the specified range of steps\n",
    "        phrase_array[instrument, start_step:end_step + 1] = pitch\n",
    "\n",
    "    return phrase_array"
   ]
  },
  {
   "cell_type": "code",
   "execution_count": 7,
   "id": "7445e1bf-3413-4e59-bb2a-8aade353ac81",
   "metadata": {},
   "outputs": [
    {
     "data": {
      "text/plain": [
       "array([[71, 71, 69, 69, 74, 74, 74, 74, 72, 72, 71, 71, 67, 67, 71, 71,\n",
       "        69, 69, 69, 69, 71, 71, 71, 71, 69, 69, 69, 69, 69, 69, 69, 69],\n",
       "       [67, 67, 67, 67, 69, 69, 69, 69, 67, 67, 66, 66, 67, 67, 67, 64,\n",
       "        64, 64, 66, 66, 67, 67, 67, 67, 67, 67, 67, 67, 67, 67, 67, 67],\n",
       "       [62, 62, 62, 62, 62, 62, 62, 62, 64, 64, 62, 62, 67, 67, 55, 67,\n",
       "        57, 57, 57, 57, 62, 62, 62, 62, 64, 64, 64, 64, 57, 57, 62, 62],\n",
       "       [43, 43, 43, 43, 55, 55, 54, 54, 52, 52, 50, 50, 50, 52, 50, 50,\n",
       "        48, 48, 48, 48, 47, 47, 47, 47, 49, 49, 45, 45, 50, 50, 50, 50]])"
      ]
     },
     "execution_count": 7,
     "metadata": {},
     "output_type": "execute_result"
    }
   ],
   "source": [
    "sort_phrase(all_four_part_harmonies[0])"
   ]
  },
  {
   "cell_type": "code",
   "execution_count": 8,
   "id": "c71d7ce8-fee2-4f9d-8fd9-87b4ab88db2f",
   "metadata": {},
   "outputs": [],
   "source": [
    "def clean_sorted_phrases(all_harmonies):\n",
    "    \"\"\"\n",
    "    A function to clean sorted phrases.\n",
    "    We remove any dupliccate phrases or phrases that are not the full length (4 bars/32 quarter notes).\n",
    "    \n",
    "    Args:\n",
    "        - all_harmonies (list): a list of all phrases.\n",
    "        \n",
    "    Returns:\n",
    "        - A list of arrays of sorted phrases.\n",
    "    \"\"\"\n",
    "    unique_melodies = []\n",
    "    cleaned_and_sorted_phrases = []\n",
    "\n",
    "    for phrase in all_harmonies:\n",
    "        if phrase[2][-1] == 32:\n",
    "            four_part_harmony = sort_phrase(phrase)\n",
    "            melody = tuple(four_part_harmony[0])\n",
    "            if melody not in unique_melodies:\n",
    "                unique_melodies.append(melody)\n",
    "                cleaned_and_sorted_phrases.append(four_part_harmony)\n",
    "    \n",
    "    return cleaned_and_sorted_phrases"
   ]
  },
  {
   "cell_type": "code",
   "execution_count": 9,
   "id": "87a5721b-d347-4c26-a580-80121dff4f02",
   "metadata": {},
   "outputs": [],
   "source": [
    "all_cleaned_phrases = clean_sorted_phrases(all_four_part_harmonies)"
   ]
  },
  {
   "cell_type": "code",
   "execution_count": 10,
   "id": "661cf8e1-dec9-4694-8ee3-01d16df60c81",
   "metadata": {},
   "outputs": [],
   "source": [
    "def get_cleaned_phrases(path, num_users):\n",
    "    \"\"\"\n",
    "    A function that extracts, sorts, and cleans the phrases.\n",
    "    \n",
    "    Args:\n",
    "        - path (str): The path to the JSON file.\n",
    "        \n",
    "    Returns:\n",
    "        - A list of arrays of suitable phrases to use.\n",
    "    \"\"\"\n",
    "    \n",
    "    all_four_part_harmonies = coconet_harmony(path, num_users)\n",
    "    all_cleaned_phrases = clean_sorted_phrases(all_four_part_harmonies)\n",
    "    \n",
    "    return all_cleaned_phrases"
   ]
  },
  {
   "cell_type": "code",
   "execution_count": 11,
   "id": "3a5d7868-da86-4de1-8e9c-9b677b272fd3",
   "metadata": {},
   "outputs": [
    {
     "data": {
      "text/plain": [
       "[array([[71, 71, 69, 69, 74, 74, 74, 74, 72, 72, 71, 71, 67, 67, 71, 71,\n",
       "         69, 69, 69, 69, 71, 71, 71, 71, 69, 69, 69, 69, 69, 69, 69, 69],\n",
       "        [67, 67, 67, 67, 69, 69, 69, 69, 67, 67, 66, 66, 67, 67, 67, 64,\n",
       "         64, 64, 66, 66, 67, 67, 67, 67, 67, 67, 67, 67, 67, 67, 67, 67],\n",
       "        [62, 62, 62, 62, 62, 62, 62, 62, 64, 64, 62, 62, 67, 67, 55, 67,\n",
       "         57, 57, 57, 57, 62, 62, 62, 62, 64, 64, 64, 64, 57, 57, 62, 62],\n",
       "        [43, 43, 43, 43, 55, 55, 54, 54, 52, 52, 50, 50, 50, 52, 50, 50,\n",
       "         48, 48, 48, 48, 47, 47, 47, 47, 49, 49, 45, 45, 50, 50, 50, 50]]),\n",
       " array([[71, 71, 69, 69, 74, 74, 74, 74, 72, 72, 71, 71, 67, 67, 71, 71,\n",
       "         69, 69, 69, 69, 72, 72, 76, 76, 69, 69, 74, 74, 67, 67, 72, 72],\n",
       "        [67, 67, 67, 67, 69, 69, 69, 69, 67, 67, 65, 65, 67, 67, 64, 64,\n",
       "         69, 69, 69, 69, 69, 69, 64, 64, 65, 65, 65, 65, 64, 64, 65, 65],\n",
       "        [62, 62, 62, 62, 62, 62, 62, 62, 64, 64, 62, 62, 60, 60, 60, 60,\n",
       "         60, 60, 60, 60, 65, 65, 59, 59, 60, 60, 62, 57, 55, 55, 55, 57],\n",
       "        [55, 55, 55, 55, 53, 53, 53, 53, 52, 52, 52, 52, 50, 50, 48, 48,\n",
       "         53, 53, 53, 53, 45, 45, 47, 47, 45, 45, 47, 47, 48, 48, 50, 50]]),\n",
       " array([[71, 71, 69, 69, 74, 74, 74, 74, 72, 72, 71, 71, 67, 67, 71, 71,\n",
       "         69, 69, 69, 69, 69, 69, 69, 69, 69, 69, 69, 69, 71, 71, 71, 71],\n",
       "        [67, 67, 67, 67, 66, 66, 66, 66, 64, 64, 63, 63, 64, 64, 66, 66,\n",
       "         67, 67, 67, 67, 66, 66, 66, 66, 66, 66, 66, 66, 67, 67, 67, 67],\n",
       "        [62, 62, 60, 60, 59, 59, 59, 59, 59, 59, 57, 57, 59, 59, 59, 59,\n",
       "         64, 64, 57, 57, 62, 62, 62, 62, 62, 62, 62, 62, 62, 62, 62, 62],\n",
       "        [50, 50, 50, 50, 59, 59, 55, 55, 57, 57, 54, 54, 52, 52, 50, 50,\n",
       "         48, 48, 50, 50, 50, 50, 60, 60, 62, 62, 62, 62, 59, 59, 59, 59]])]"
      ]
     },
     "execution_count": 11,
     "metadata": {},
     "output_type": "execute_result"
    }
   ],
   "source": [
    "get_cleaned_phrases(path, 1)"
   ]
  },
  {
   "cell_type": "code",
   "execution_count": 12,
   "id": "2737d7cb-ccbf-40fc-97a1-166e1c7108e3",
   "metadata": {},
   "outputs": [],
   "source": [
    "all_phrases = get_cleaned_phrases(path, 1)"
   ]
  },
  {
   "cell_type": "code",
   "execution_count": 13,
   "id": "18e62423-0fc4-4af9-95b5-edb504beea8f",
   "metadata": {},
   "outputs": [
    {
     "data": {
      "text/plain": [
       "([71, 69, 74, 72, 71, 67, 71, 69, 71, 69],\n",
       " [1.0, 1.0, 2.0, 1.0, 1.0, 1.0, 1.0, 2.0, 2.0, 4.0])"
      ]
     },
     "execution_count": 13,
     "metadata": {},
     "output_type": "execute_result"
    }
   ],
   "source": [
    "sample_phrase = all_phrases[0]\n",
    "pitch_and_length(sample_phrase, 0)"
   ]
  },
  {
   "cell_type": "code",
   "execution_count": null,
   "id": "c470abb0-92c7-4f31-8c99-a62f296ff07b",
   "metadata": {},
   "outputs": [],
   "source": []
  }
 ],
 "metadata": {
  "kernelspec": {
   "display_name": "Python 3 (ipykernel)",
   "language": "python",
   "name": "python3"
  },
  "language_info": {
   "codemirror_mode": {
    "name": "ipython",
    "version": 3
   },
   "file_extension": ".py",
   "mimetype": "text/x-python",
   "name": "python",
   "nbconvert_exporter": "python",
   "pygments_lexer": "ipython3",
   "version": "3.9.13"
  }
 },
 "nbformat": 4,
 "nbformat_minor": 5
}
