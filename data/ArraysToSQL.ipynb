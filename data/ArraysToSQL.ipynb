{
 "cells": [
  {
   "cell_type": "code",
   "execution_count": 1,
   "id": "4ba0679f-08b2-4773-adb7-099a82d47477",
   "metadata": {
    "tags": []
   },
   "outputs": [],
   "source": [
    "import sqlite3\n",
    "import numpy as np\n",
    "import pickle"
   ]
  },
  {
   "cell_type": "code",
   "execution_count": 2,
   "id": "ddef46c3-bdf3-4084-ad07-595c60ed3970",
   "metadata": {
    "tags": []
   },
   "outputs": [],
   "source": [
    "from ExtractData import *"
   ]
  },
  {
   "cell_type": "code",
   "execution_count": 3,
   "id": "6e7b56d3-e1e6-4315-9fe1-9e7a9c6da3fb",
   "metadata": {
    "tags": []
   },
   "outputs": [],
   "source": [
    "path = '../Data/DoodleSample'"
   ]
  },
  {
   "cell_type": "code",
   "execution_count": 4,
   "id": "6216bead-043f-4417-82a8-fea1a40a3f8b",
   "metadata": {
    "tags": []
   },
   "outputs": [],
   "source": [
    "phrases = get_cleaned_phrases(path, 40000)"
   ]
  },
  {
   "cell_type": "code",
   "execution_count": 5,
   "id": "ce806c82-9285-4ec9-909c-0a11e87c6c14",
   "metadata": {
    "tags": []
   },
   "outputs": [
    {
     "data": {
      "text/plain": [
       "<sqlite3.Cursor at 0x19250ff0f10>"
      ]
     },
     "execution_count": 5,
     "metadata": {},
     "output_type": "execute_result"
    }
   ],
   "source": [
    "# Specify the path to the database in the 'data' folder\n",
    "database_path = '../data/array_database.db'  # Go up one level to the parent directory, then into the 'data' folder\n",
    "\n",
    "# Connect to the database (this will create the database if it doesn't exist)\n",
    "conn = sqlite3.connect(database_path)\n",
    "cursor = conn.cursor()\n",
    "\n",
    "# Create a table to store your data (modify this part as needed)\n",
    "cursor.execute('''\n",
    "    CREATE TABLE IF NOT EXISTS array_data (\n",
    "        id INTEGER PRIMARY KEY,\n",
    "        array_data BLOB\n",
    "    )\n",
    "''')"
   ]
  },
  {
   "cell_type": "code",
   "execution_count": 6,
   "id": "b80c0c5c-98c4-46df-9c39-69274b723c42",
   "metadata": {
    "tags": []
   },
   "outputs": [
    {
     "name": "stdout",
     "output_type": "stream",
     "text": [
      "Data inserted into the existing 'array_data' table in ../data/array_database.db\n"
     ]
    }
   ],
   "source": [
    "# Specify the path to the database in the 'data' folder\n",
    "database_path = '../data/array_database.db'  # Go up one level to the parent directory, then into the 'data' folder\n",
    "\n",
    "# Connect to the database (this will create the database if it doesn't exist)\n",
    "conn = sqlite3.connect(database_path)\n",
    "cursor = conn.cursor()\n",
    "\n",
    "# Create a table to store your data (modify this part as needed)\n",
    "cursor.execute('''\n",
    "    CREATE TABLE IF NOT EXISTS array_data (\n",
    "        id INTEGER PRIMARY KEY,\n",
    "        array_data BLOB\n",
    "    )\n",
    "''')\n",
    "\n",
    "# Generate and insert 100 random numpy arrays (replace this with your actual data)\n",
    "for phrase in phrases:\n",
    "\n",
    "    # Serialize the data using pickle\n",
    "    serialized_data = pickle.dumps(phrase)\n",
    "\n",
    "    # Insert the serialized data into the existing 'array_data' table\n",
    "    cursor.execute('INSERT INTO array_data (array_data) VALUES (?)', (serialized_data,))\n",
    "\n",
    "# Commit changes and close the connection\n",
    "conn.commit()\n",
    "conn.close()\n",
    "\n",
    "print(f\"Data inserted into the existing 'array_data' table in {database_path}\")\n"
   ]
  },
  {
   "cell_type": "code",
   "execution_count": null,
   "id": "cda7c8c4-247f-49c9-8197-f803c44a4698",
   "metadata": {},
   "outputs": [],
   "source": []
  }
 ],
 "metadata": {
  "kernelspec": {
   "display_name": "Python 3 (ipykernel)",
   "language": "python",
   "name": "python3"
  },
  "language_info": {
   "codemirror_mode": {
    "name": "ipython",
    "version": 3
   },
   "file_extension": ".py",
   "mimetype": "text/x-python",
   "name": "python",
   "nbconvert_exporter": "python",
   "pygments_lexer": "ipython3",
   "version": "3.9.18"
  }
 },
 "nbformat": 4,
 "nbformat_minor": 5
}
