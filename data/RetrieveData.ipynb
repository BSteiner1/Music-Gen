{
 "cells": [
  {
   "cell_type": "code",
   "execution_count": 14,
   "id": "45dd88d7-9459-4838-af19-01a999a133b6",
   "metadata": {
    "tags": []
   },
   "outputs": [],
   "source": [
    "import sqlite3\n",
    "import numpy as np\n",
    "import pickle\n",
    "import os"
   ]
  },
  {
   "cell_type": "code",
   "execution_count": 15,
   "id": "00db3d64-6658-449a-a1a9-59aefeaf4e6b",
   "metadata": {
    "tags": []
   },
   "outputs": [],
   "source": [
    "# Specify the path to the database file within the cloned repository\n",
    "database_path = '../data/array_database.db'  # Adjust the path as needed\n",
    "\n",
    "# Connect to the database\n",
    "conn = sqlite3.connect(database_path)\n",
    "cursor = conn.cursor()\n",
    "\n",
    "# Retrieve the serialized arrays from the 'array_data' table\n",
    "cursor.execute('SELECT array_data FROM array_data')\n",
    "results = cursor.fetchall()\n",
    "\n",
    "# Deserialize the data and store the arrays in a list\n",
    "arrays = []\n",
    "for result in results:\n",
    "    serialized_data = result[0]\n",
    "    array = pickle.loads(serialized_data)\n",
    "    arrays.append(array)\n",
    "\n",
    "# Close the database connection\n",
    "conn.close()"
   ]
  },
  {
   "cell_type": "code",
   "execution_count": 16,
   "id": "13cdd03a-40f0-4dae-865c-269f2a7b5e07",
   "metadata": {
    "tags": []
   },
   "outputs": [
    {
     "data": {
      "text/plain": [
       "80025"
      ]
     },
     "execution_count": 16,
     "metadata": {},
     "output_type": "execute_result"
    }
   ],
   "source": [
    "len(arrays)"
   ]
  },
  {
   "cell_type": "code",
   "execution_count": 19,
   "id": "4c866164-3784-4aec-a762-9b516fcd25ba",
   "metadata": {
    "tags": []
   },
   "outputs": [
    {
     "data": {
      "text/plain": [
       "array([[60, 60, 71, 71, 64, 64, 64, 64, 74, 74, 64, 64, 64, 64, 76, 76,\n",
       "        62, 62, 62, 62, 67, 67, 74, 74, 65, 65, 74, 74, 65, 65, 57, 57],\n",
       "       [55, 55, 62, 62, 64, 64, 69, 69, 62, 62, 62, 62, 61, 61, 61, 61,\n",
       "        62, 62, 62, 62, 62, 62, 61, 61, 62, 62, 62, 62, 62, 62, 62, 62],\n",
       "       [57, 57, 55, 55, 55, 55, 55, 55, 57, 57, 58, 58, 57, 57, 57, 57,\n",
       "        57, 57, 57, 57, 58, 58, 58, 58, 57, 57, 57, 57, 57, 57, 57, 57],\n",
       "       [52, 52, 50, 50, 48, 48, 47, 47, 45, 45, 45, 45, 57, 57, 57, 57,\n",
       "        46, 46, 48, 48, 43, 43, 43, 43, 50, 50, 50, 50, 38, 38, 38, 38]])"
      ]
     },
     "execution_count": 19,
     "metadata": {},
     "output_type": "execute_result"
    }
   ],
   "source": [
    "arrays[10]"
   ]
  },
  {
   "cell_type": "code",
   "execution_count": null,
   "id": "dae810c0-c0a3-4666-8493-9b53f4823079",
   "metadata": {},
   "outputs": [],
   "source": []
  }
 ],
 "metadata": {
  "kernelspec": {
   "display_name": "Python 3 (ipykernel)",
   "language": "python",
   "name": "python3"
  },
  "language_info": {
   "codemirror_mode": {
    "name": "ipython",
    "version": 3
   },
   "file_extension": ".py",
   "mimetype": "text/x-python",
   "name": "python",
   "nbconvert_exporter": "python",
   "pygments_lexer": "ipython3",
   "version": "3.9.18"
  }
 },
 "nbformat": 4,
 "nbformat_minor": 5
}
